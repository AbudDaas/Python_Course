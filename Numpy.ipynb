{
  "nbformat": 4,
  "nbformat_minor": 0,
  "metadata": {
    "colab": {
      "name": "Numpy.ipynb",
      "provenance": [],
      "include_colab_link": true
    },
    "kernelspec": {
      "name": "python3",
      "display_name": "Python 3"
    }
  },
  "cells": [
    {
      "cell_type": "markdown",
      "metadata": {
        "id": "view-in-github",
        "colab_type": "text"
      },
      "source": [
        "<a href=\"https://colab.research.google.com/github/AbudDaas/Python_Course/blob/main/Numpy.ipynb\" target=\"_parent\"><img src=\"https://colab.research.google.com/assets/colab-badge.svg\" alt=\"Open In Colab\"/></a>"
      ]
    },
    {
      "cell_type": "code",
      "metadata": {
        "id": "1KEIW5btoMv2",
        "colab": {
          "base_uri": "https://localhost:8080/",
          "height": 324
        },
        "outputId": "cd08e23a-cd31-4641-cbad-8df9828b5527"
      },
      "source": [
        "import numpy as np\n",
        "import matplotlib.pyplot as plt\n",
        "\n",
        "arr = np.array([[1,2,3,4,5], [5,6,7,8,9]])\n",
        "\n",
        "print(arr[0, 2],arr[1, 2],arr[0, 3],arr[1, 4])\n",
        "\n",
        "arr = np.array([[1,2,44,5,6], [5,6,7,8,9], [5,4,7,8,10]])\n",
        "\n",
        "print(arr[0,3]+arr[1,4]+arr[2,2])\n",
        "\n",
        "arr = np.array([[3,5,7,11], [4,22,6,9,],[12,3,6,9]])\n",
        "\n",
        "print(arr[1,1]*arr[0,3]*arr[2,1])\n",
        "\n",
        "img = np.array([[1,2,3],[5,6,7],[8,9,8]])\n",
        "\n",
        "plt.imshow(img)\n",
        "plt.show()"
      ],
      "execution_count": 2,
      "outputs": [
        {
          "output_type": "stream",
          "text": [
            "3 7 4 9\n",
            "21\n",
            "726\n"
          ],
          "name": "stdout"
        },
        {
          "output_type": "display_data",
          "data": {
            "image/png": "[encoded data removed]",
            "text/plain": [
              "<Figure size 432x288 with 1 Axes>"
            ]
          },
          "metadata": {
            "tags": [],
            "needs_background": "light"
          }
        }
      ]
    }
  ]
}