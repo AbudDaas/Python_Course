{
  "nbformat": 4,
  "nbformat_minor": 0,
  "metadata": {
    "colab": {
      "name": "Numpy.ipynb",
      "provenance": [],
      "authorship_tag": "ABX9TyMfLQPA5BLfkuRtDLWlZX26",
      "include_colab_link": true
    },
    "kernelspec": {
      "name": "python3",
      "display_name": "Python 3"
    }
  },
  "cells": [
    {
      "cell_type": "markdown",
      "metadata": {
        "id": "view-in-github",
        "colab_type": "text"
      },
      "source": [
        "<a href=\"https://colab.research.google.com/github/AbudDaas/Python_Course/blob/main/Numpy.ipynb\" target=\"_parent\"><img src=\"https://colab.research.google.com/assets/colab-badge.svg\" alt=\"Open In Colab\"/></a>"
      ]
    },
    {
      "cell_type": "code",
      "metadata": {
        "id": "1KEIW5btoMv2",
        "colab": {
          "base_uri": "https://localhost:8080/"
        },
        "outputId": "4e08db02-b976-4622-e8cc-01e1c29e7269"
      },
      "source": [
        "import numpy as random\n",
        "import matplotlib.pyplot as plt\n",
        "\n",
        "arr = np.array([[1,2,3,4,5], [5,6,7,8,9]])\n",
        "\n",
        "print(arr[0, 2],arr[1, 2],arr[0, 3],arr[1, 4])\n",
        "\n",
        "arr = np.array([[1,2,44,5,6], [5,6,7,8,9], [5,4,7,8,10]])\n",
        "\n",
        "print(arr[0,3]+arr[1,4]+arr[2,2])"
      ],
      "execution_count": 15,
      "outputs": [
        {
          "output_type": "stream",
          "text": [
            "3 7 4 9\n",
            "21\n"
          ],
          "name": "stdout"
        }
      ]
    }
  ]
}