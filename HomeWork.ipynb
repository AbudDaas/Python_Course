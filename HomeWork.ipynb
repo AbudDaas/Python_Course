{
  "nbformat": 4,
  "nbformat_minor": 0,
  "metadata": {
    "colab": {
      "name": "HomeWork.ipynb",
      "provenance": [],
      "collapsed_sections": [],
      "include_colab_link": true
    },
    "kernelspec": {
      "display_name": "Python 3",
      "name": "python3"
    },
    "language_info": {
      "name": "python"
    }
  },
  "cells": [
    {
      "cell_type": "markdown",
      "metadata": {
        "id": "view-in-github",
        "colab_type": "text"
      },
      "source": [
        "<a href=\"https://colab.research.google.com/github/AbudDaas/Python_Course/blob/main/HomeWork.ipynb\" target=\"_parent\"><img src=\"https://colab.research.google.com/assets/colab-badge.svg\" alt=\"Open In Colab\"/></a>"
      ]
    },
    {
      "cell_type": "markdown",
      "metadata": {
        "id": "U8eEberOBZO3"
      },
      "source": [
        "# Homework"
      ]
    },
    {
      "cell_type": "code",
      "metadata": {
        "id": "0gqK5BraA5df",
        "colab": {
          "base_uri": "https://localhost:8080/"
        },
        "outputId": "baae912f-5780-4927-9f84-9c16c6c4bc63"
      },
      "source": [
        "# all continents\n",
        "continents = ['Africa', 'Asia', 'Europe', 'America North', 'America South']\n",
        "# countries\n",
        "countries = [['Egypt', 'Algeria', 'Libya', 'Zambia'],\n",
        "             ['Turkey', 'Syria'],\n",
        "             ['France', 'Germany','Poland', 'Spain'], \n",
        "             ['USA', 'Canada'], \n",
        "             ['Brazil', 'Argentina']]\n",
        "\n",
        "# Function \n",
        "def dictionaryBuilder(conts, countries):\n",
        "    # empty dictionary\n",
        "    dict = {}\n",
        "    # Loop over the lists\n",
        "    for idx in range(len(continents)):\n",
        "      dict[continents[idx]] = countries[idx]\n",
        "    # return the dictionary\n",
        "    return dict\n",
        "\n",
        "# call the function\n",
        "diction = dictionaryBuilder(continents, countries)\n",
        "# print\n",
        "# for key in diction:\n",
        "#   print(key, diction[key],'\\n')\n",
        "\n",
        "def printer(cont):\n",
        "  diction = dictionaryBuilder(continents, countries)\n",
        "  print(diction[cont])\n",
        "\n",
        "printer('Asia')"
      ],
      "execution_count": 32,
      "outputs": [
        {
          "output_type": "stream",
          "text": [
            "['Turkey', 'Syria']\n"
          ],
          "name": "stdout"
        }
      ]
    },
    {
      "cell_type": "code",
      "metadata": {
        "id": "3L6D2q9MgshH"
      },
      "source": [
        "mytuple = (\"apple\", \"banana\", \"cherry\")\n",
        "# mytuple[0] = 'Abud'"
      ],
      "execution_count": 43,
      "outputs": []
    },
    {
      "cell_type": "markdown",
      "metadata": {
        "id": "Gzk07hFPfcHk"
      },
      "source": [
        "## Numpy Tutorial"
      ]
    },
    {
      "cell_type": "code",
      "metadata": {
        "colab": {
          "base_uri": "https://localhost:8080/",
          "height": 282
        },
        "id": "Xu3XPoRJffDa",
        "outputId": "5a1263b6-f9f8-4d11-bff5-25f3f8ca1703"
      },
      "source": [
        "import numpy as np\n",
        "import matplotlib.pyplot as plt\n",
        "\n",
        "myList = [[1, 0, 1], \n",
        "          [0, 0, 1], \n",
        "          [1, 0, 0]]\n",
        "myList2 = [[0, 0, 1],\n",
        "[0, 0, 1], \n",
        "[1, 0, 1]]\n",
        "arr = np.array(myList)\n",
        "arr2 = np.array(myList2)\n",
        "\n",
        "print('array shape is :',arr.shape)\n",
        "plt.subplot(221)\n",
        "plt.imshow(arr, cmap='gray')\n",
        "# plt.axis('off')\n",
        "\n",
        "plt.subplot(222)\n",
        "plt.imshow(arr2, cmap='gray')\n",
        "\n",
        "plt.subplot(223)\n",
        "plt.imshow(arr*arr2, cmap='gray')\n",
        "\n",
        "plt.show()"
      ],
      "execution_count": 46,
      "outputs": [
        {
          "output_type": "stream",
          "text": [
            "array shape is : (3, 3)\n"
          ],
          "name": "stdout"
        },
        {
          "output_type": "display_data",
          "data": {
            "image/png": "[encoded data removed]",
            "text/plain": [
              "<Figure size 432x288 with 3 Axes>"
            ]
          },
          "metadata": {
            "tags": [],
            "needs_background": "light"
          }
        }
      ]
    }
  ]
}