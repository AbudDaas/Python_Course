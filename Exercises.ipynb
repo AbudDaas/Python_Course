{
  "nbformat": 4,
  "nbformat_minor": 0,
  "metadata": {
    "colab": {
      "name": "Exercises.ipynb",
      "private_outputs": true,
      "provenance": [],
      "authorship_tag": "ABX9TyOn9KkL9NSYnLxW0qM7yrqz",
      "include_colab_link": true
    },
    "kernelspec": {
      "name": "python3",
      "display_name": "Python 3"
    },
    "language_info": {
      "name": "python"
    }
  },
  "cells": [
    {
      "cell_type": "markdown",
      "metadata": {
        "id": "view-in-github",
        "colab_type": "text"
      },
      "source": [
        "<a href=\"https://colab.research.google.com/github/AbudDaas/Python_Course/blob/main/Exercises.ipynb\" target=\"_parent\"><img src=\"https://colab.research.google.com/assets/colab-badge.svg\" alt=\"Open In Colab\"/></a>"
      ]
    },
    {
      "cell_type": "markdown",
      "metadata": {
        "id": "_DI0uiwIAQ9I"
      },
      "source": [
        "#pandas library"
      ]
    },
    {
      "cell_type": "code",
      "metadata": {
        "id": "fQ3Pu6zAAa58"
      },
      "source": [
        "import pandas as pd\n",
        "import dateutil\n",
        "import requests as rqts\n",
        "\n",
        "coluers =[\"red\",1,\"gren\",\"blue\",7,\"acua\",5]\n",
        "coluers1 =(\"red\")\n",
        "coluers2 =(\"blue\")\n",
        "print(str (coluers2) + str (coluers1))\n",
        "\n",
        "text =\"AbUd CoRSe\"\n",
        "print(text.isidentifier())\n",
        "#isalnum()\n",
        "#isalpha()\n",
        "#isdecimal()\n",
        "#isdigit()\n",
        "#isidentifier()\n",
        "list1 =[\"arabic\",3,6,\"inglish\",1,\"turkish\"]\n",
        "list2 =[\"asia\",\"africa\"]\n",
        "\n",
        "# add list items ////    تستخدم لاضافة قيمة الى النص\n",
        "#  append()          insert()\n",
        "list1.append(\"garmen\")\n",
        "print(list1)\n",
        "\n",
        "# remove list items ////  تستخدم لازالة قيمة من النص\n",
        "#  remove()     pop()   del     claer()\n",
        "list1.pop(3-1)\n",
        "print(list1)\n",
        "\n",
        "#extend list  ////     دمج اكثر من نص في نص واحد  \n",
        "#  extend()\n",
        "list1.extend(list2)\n",
        "print(list1)\n",
        "\n",
        "#paython - sort lists ///  تستخدم لترتيب البيانات \n",
        "#sort()    reverse()    sort(reverse = true)\n",
        "list2 =[\"sirya\",\"turky\",\"asia\",\"londun\",\"amerika\",\"africa\"]\n",
        "list2.sort()\n",
        "print(list2)"
      ],
      "execution_count": null,
      "outputs": []
    },
    {
      "cell_type": "markdown",
      "source": [
        "****11.06.2022****"
      ],
      "metadata": {
        "id": "tpPD7jCjwdam"
      }
    },
    {
      "cell_type": "code",
      "source": [
        "text = \"my name paython\"\n",
        "#text.upper()   ///                                       bütün cümleyi büyk harflere çevirir\n",
        "#text.lower()   ///                                       bütün cümleyi küçük harflere çevirir\n",
        "#print(len(text)) ///                                     kelimenin kaç harfli olduğunu belirler\n",
        "#print(text[0]) ///                                       bir kelimede sayı koyarak o \n",
        "print(text[0]) \n",
        "#print(text.index(\"harf\"))///\n",
        "print(text.index(\"m\"))\n",
        "#print(text.replaceZ(\"olan kelime\",\"yeni kelime\"))///\n",
        "print(text.replace(\"paython\",\"abud\"))\n"
      ],
      "metadata": {
        "id": "sqR-zqx6vSE5"
      },
      "execution_count": null,
      "outputs": []
    },
    {
      "cell_type": "code",
      "metadata": {
        "id": "V-t0YX3jch9x"
      },
      "source": [
        "#-----------------------------\n",
        "#\\Escape sequences charecters\n",
        "#\\b => back spase\n",
        "#\\newline => escape new line + \\\n",
        "#\\\\ => escape back slash\n",
        "#\\' => Escape single Quotes\n",
        "#\\\" => Escape double Quotes\n",
        "#\\n => line feed\n",
        "#\\r => carrage return\n",
        "#\\t => Horizontal tab\n",
        "#\\xhh => character\n",
        "#-----------------------------------"
      ],
      "execution_count": null,
      "outputs": []
    },
    {
      "cell_type": "code",
      "source": [
        "X = \"abud\"\n",
        "Y = \"old\"\n",
        "Z = \"m\"\n",
        "C = \"nam\"\n",
        "print(Z+\" a boy and \"+Z+\"y \"+C+\"e \"+X)"
      ],
      "metadata": {
        "id": "o_qEVu5RkDrs"
      },
      "execution_count": null,
      "outputs": []
    },
    {
      "cell_type": "code",
      "source": [
        "#from IPython.lib.display import YouTubeVideo\n",
        "#name = input(\"enter your name:\")\n",
        "#input(\"enter your age:\")\n",
        "#input(\"enter your emil:\")\n",
        "#print(\"hello \"+name)\n",
        "question = input(\"what did he ask:\")\n",
        "question1 = input(\"what did he ask:\")\n",
        "\n",
        "print(\"hello my name abud \"+question)\n",
        "\n",
        "print(\"my name huda \"+question1)\n",
        "print(\"I'm fine, thanks\")\n",
        "\n",
        "#city = [\"gaziantep\",\"bursa\",\"istanbul\",\"edirne\",\"izmir\"]\n",
        "#print(city[1:-1])"
      ],
      "metadata": {
        "id": "zTIM2h2kj6BT"
      },
      "execution_count": null,
      "outputs": []
    },
    {
      "cell_type": "code",
      "source": [
        "def play():\n",
        "  name = input(\"enter your name:\")\n",
        "  input(\"enter your age:\")\n",
        "  input(\"enter your emil:\")\n",
        "  print(\"hello \"+name)\n",
        "\n",
        "play()"
      ],
      "metadata": {
        "id": "c8fbiIahjJJa"
      },
      "execution_count": null,
      "outputs": []
    },
    {
      "cell_type": "markdown",
      "source": [
        "## hesap makinesi\n",
        "\n"
      ],
      "metadata": {
        "id": "lIXI9kdaWo1o"
      }
    },
    {
      "cell_type": "code",
      "source": [
        "num1 = float(input(\"please enter number\"))\n",
        "\n",
        "operator = input(\"please enter operator\")\n",
        "\n",
        "num2 = float(input(\"please enter number\"))\n",
        "\n",
        "\n",
        "if operator ==\"+\":\n",
        "  print(num1+num2)\n",
        "#-----------------------------\n",
        "elif operator ==\"-\":\n",
        "  print(num1-num2)\n",
        "#----------------------------------\n",
        "elif operator ==\"/\":\n",
        "  print(num1/num2)\n",
        "#-----------------------\n",
        "elif operator ==\"*\":\n",
        "  print(num1*num2)\n",
        "\n",
        "if operator ==\"**\":\n",
        "  print(num1**num2)\n",
        "\n",
        "\n",
        "else:\n",
        "  print(\"wreng opirator plaese try agin\")"
      ],
      "metadata": {
        "id": "zwuU5wTNawzY"
      },
      "execution_count": null,
      "outputs": []
    },
    {
      "cell_type": "code",
      "source": [
        "#i = 1\n",
        "#while i<=12:\n",
        "#  i += 1\n",
        "#  print(i)\n",
        "\n",
        "boş=[\n",
        "    [1,2,3],\n",
        "    [4,5,6],\n",
        "    [7,8,9],\n",
        "    [0]\n",
        "]\n",
        "\n",
        "print(boş[2][1])"
      ],
      "metadata": {
        "id": "LzSDgelqGj7o"
      },
      "execution_count": null,
      "outputs": []
    },
    {
      "cell_type": "code",
      "source": [
        "import random\n",
        "import curses\n",
        "\n",
        "s =curses.initscr()\n",
        "curses.curs_set(0)\n",
        "sh, sw = S.getmaxyx()\n",
        "w = curses.newwin(sh, sw, 0, 0)\n",
        "w.keypad(1)\n",
        "w.timeout(100)\n",
        "\n",
        "snk_x = sw//4\n",
        "snk_y = sh//2\n",
        "snake =[\n",
        "        [snk_y,snk_x],\n",
        "        [snk_y,snk_x-1],\n",
        "        [snk_y,snk_x-2]\n",
        "]\n",
        "\n",
        "\n",
        "food =[sh//2,sw//4]\n",
        "w.addech(food[0]), (food[1], curses.ACS_PI)\n",
        "\n",
        "key = curses.KEY_RIGHT\n",
        "\n",
        "while True:\n",
        "  next_key = w.getch\n",
        "  key =key if next_key == -1 else next_key\n",
        "\n",
        "  if snake[0][0] in [0, sh] or snake [0] [1] in [0, sw] or snake [0] in snake [1: ]:\n",
        "    curses.endwin()\n",
        "    quit()\n",
        "  new_head =snake[0] [0], snake =[0] [1]\n",
        "\n",
        " \n",
        "  if key == curses.KEY_DOWN:\n",
        "    new_head[0] += 1\n",
        "\n",
        "  if key == curses.KEY_UP:\n",
        "    new_head[0] -= 1\n",
        "  if key == curses.KEY_RIGHT:\n",
        "    new_head[0] -= 1\n",
        "  if key == curses.KEY_UP:\n",
        "    new_head[0] += 1\n",
        "  \n",
        "  snake.insert(0, new_head)\n",
        "\n",
        "  if snake[0] == food:\n",
        "    food = None\n",
        "    while food is None:\n",
        "      nf = [\n",
        "            random.randint(1, sh-1),\n",
        "            random.randint(1, sw-1)\n",
        "      ]\n",
        "      food = nf if nf not in snake else None\n",
        "    w.addch(food[0], food[1], curses.ACS_PI)\n",
        "  else:\n",
        "    tail = snake.pop()\n",
        "    w.addch(tail[0], tail[1], ' ')\n",
        "    w.addch(snake[0][0], snake[0][1], curses.ACS_CKBOARD)"
      ],
      "metadata": {
        "id": "iXOEZO_4Y3XK"
      },
      "execution_count": null,
      "outputs": []
    },
    {
      "cell_type": "code",
      "source": [
        "from student_performans import student_performans\n",
        "\n",
        "student =(\"ali\", \"13\", \"123\")\n",
        "student1 =(\"ahmet\", \"15\", \"234\")\n",
        "student2 =(\"veli\", \"12\", \"512\")\n",
        "\n",
        "print(student.name, student1.age, student2.number)"
      ],
      "metadata": {
        "id": "bgwCDBm8k8y5"
      },
      "execution_count": null,
      "outputs": []
    },
    {
      "cell_type": "markdown",
      "source": [
        "## student admission form"
      ],
      "metadata": {
        "id": "uLBMAqyqAKak"
      }
    },
    {
      "cell_type": "code",
      "source": [
        "#(turkish, math, inglish, science, religion, history)\n",
        "\n",
        "name = input(\"student name:\")\n",
        "tr = input(\"Turkish score:\")\n",
        "verbal_score =input(\"Turkish verbal score:\")\n",
        "verbal_score1 =input(\"Turkish verbal score1:\")\n",
        "average_tr = (int(tr) + int(verbal_score) + int(verbal_score1))/ 3\n",
        "\n",
        "mat = input(\"math score:\")\n",
        "verbal_score2 =input(\"math verbal score2:\")\n",
        "verbal_score3 =input(\"math verbal score3:\")\n",
        "average_mat = (int(mat) + int(verbal_score2) + int(verbal_score3))/ 3\n",
        "\n",
        "scin = input(\"science score:\")\n",
        "verbal_score4 =input(\"scin verbal score4:\")\n",
        "verbal_score5 =input(\"scin verbal score5:\")\n",
        "average_scin = (int(scin) + int(verbal_score4) + int(verbal_score5))/ 3\n",
        "\n",
        "eng = input(\"english score:\")\n",
        "verbal_score6 =input(\"eng verbal score4:\")\n",
        "verbal_score7 =input(\"eng verbal score5:\")\n",
        "average_eng = (int(eng) + int(verbal_score6) + int(verbal_score7))/ 3\n",
        "\n",
        "his = input(\"history lesson score:\")\n",
        "verbal_score8 =input(\"his verbal score4:\")\n",
        "verbal_score9 =input(\"his verbal score5:\")\n",
        "average_his = (int(his) + int(verbal_score8) + int(verbal_score9))/ 3\n",
        "\n",
        "rel = input(\"religion lesson points:\")\n",
        "verbal_score10 =input(\"rel verbal score4:\")\n",
        "verbal_score11 =input(\"rel verbal score5:\")\n",
        "average_rel = (int(rel) + int(verbal_score10) + int(verbal_score11))/ 3\n",
        "\n",
        "\n",
        "final_average = (int(average_tr)+int(average_mat)+int(average_scin)+int(average_eng)+int(average_his)+int(average_rel))/ 6\n",
        "print(int(final_average))\n",
        "if final_average ==100 :\n",
        "  print(\"he/she have takdir and üstbaşarı document and he/she very successful\")\n",
        "elif final_average >= 85:\n",
        "  print(\"he/she have takdir and he/she successful\")\n",
        "elif final_average >= 75:\n",
        "  print(\"he/she have teşekür and he/she succsessful\")\n",
        "elif final_average < 75:\n",
        "  print(\"he/she not have document and he/she fail\")\n"
      ],
      "metadata": {
        "id": "bZhEXFXnAKKN"
      },
      "execution_count": null,
      "outputs": []
    }
  ]
}