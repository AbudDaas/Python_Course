{
  "nbformat": 4,
  "nbformat_minor": 0,
  "metadata": {
    "colab": {
      "name": "Githup.ipynb",
      "private_outputs": true,
      "provenance": [],
      "authorship_tag": "ABX9TyNBk9nEPAxhTnvOIl848x+J",
      "include_colab_link": true
    },
    "kernelspec": {
      "name": "python3",
      "display_name": "Python 3"
    },
    "language_info": {
      "name": "python"
    }
  },
  "cells": [
    {
      "cell_type": "markdown",
      "metadata": {
        "id": "view-in-github",
        "colab_type": "text"
      },
      "source": [
        "<a href=\"https://colab.research.google.com/github/AbudDaas/Python_Course/blob/main/Githup.ipynb\" target=\"_parent\"><img src=\"https://colab.research.google.com/assets/colab-badge.svg\" alt=\"Open In Colab\"/></a>"
      ]
    },
    {
      "cell_type": "code",
      "execution_count": null,
      "metadata": {
        "id": "5CBigI40GYSb"
      },
      "outputs": [],
      "source": [
        "import matplotlib.pyplot as plt\n",
        "\n",
        "\n",
        "testList0=[(5, 6), (7, 8)]\n",
        "testList1=[(5, 6), (6, 8)]\n",
        "\n",
        "(x_0,y0) = (0,1)\n",
        "m = 0.5\n",
        "a = m\n",
        "b = 1\n",
        "c = y0 - m * x_0\n",
        "\n",
        "Center = (5, 6)\n",
        "\n",
        "x_0 = [x[0] for x in testList0]\n",
        "y_0 = [x[1] for x in testList0]\n",
        "\n",
        "x_1 = [x[0] for x in testList1]\n",
        "y_1 = [x[1] for x in testList1]\n",
        "\n",
        "plt.scatter(x_0,y_0)\n",
        "plt.scatter(x_1,y_1)\n",
        "\n",
        "plt.scatter(Center[0], Center[1], color='red', label='Center')\n",
        "\n",
        "plt.plot(x_0, y_0, 'bx-', label='testList0') \n",
        "plt.plot(x_1, y_1, 'rx--', label='x-shift')\n",
        "\n",
        "plt.title('Schematic diagram')\n",
        "plt.xlabel('X-satır')\n",
        "plt.ylabel('Y-satır')\n",
        "plt.legend()\n",
        "plt.grid()\n",
        "plt.show()"
      ]
    },
    {
      "cell_type": "code",
      "source": [
        "!pip3 install ColabTurtle"
      ],
      "metadata": {
        "id": "d48BXJOpBu7l"
      },
      "execution_count": null,
      "outputs": []
    },
    {
      "cell_type": "markdown",
      "source": [
        "import turtle \n",
        "\n",
        "sides= range(100)\n",
        "\n",
        "t =turtle.Turtle\n",
        "\n",
        "\n",
        "for side in sides:\n",
        "\n",
        "    t.forward(5)\n",
        "    t.right(360/100)"
      ],
      "metadata": {
        "id": "11fFQ3RanK9N"
      }
    },
    {
      "cell_type": "code",
      "source": [
        "from ColabTurtle.Turtle import *"
      ],
      "metadata": {
        "id": "3JtPvKiWHx3b"
      },
      "execution_count": null,
      "outputs": []
    },
    {
      "cell_type": "code",
      "source": [
        "initializeTurtle(initial_speed=10)"
      ],
      "metadata": {
        "id": "bv0SK48JWoQt"
      },
      "execution_count": null,
      "outputs": []
    },
    {
      "cell_type": "code",
      "source": [
        "forward(100)\n",
        "right(100)\n",
        "forward(100)\n",
        "right(100)\n",
        "forward(100)\n",
        "right(100)\n",
        "forward(100)\n",
        "right(100)"
      ],
      "metadata": {
        "id": "IigUqk0nmRm_"
      },
      "execution_count": null,
      "outputs": []
    },
    {
      "cell_type": "code",
      "source": [
        "forward(100)\n",
        "right(90)\n",
        "forward(100)\n",
        "right(90)\n",
        "forward(100)\n",
        "right(90)\n",
        "forward(100)\n",
        "right(90)"
      ],
      "metadata": {
        "id": "e5un55cTkkZp"
      },
      "execution_count": null,
      "outputs": []
    },
    {
      "cell_type": "code",
      "source": [
        "forward(9)\n",
        "\n",
        "\n"
      ],
      "metadata": {
        "id": "7Ei4gqXql8xK"
      },
      "execution_count": null,
      "outputs": []
    },
    {
      "cell_type": "code",
      "source": [
        "import turtle\n",
        "\n",
        "turtle.home()\n",
        "turtle.left(90)\n",
        "turtle.heading()\n",
        "\n",
        "\n",
        "turtle.degrees(400.0)\n",
        "turtle.heading()\n",
        "\n",
        "turtle.degrees(360)\n",
        "turtle.heading()"
      ],
      "metadata": {
        "id": "Ks9Gt-wAXELZ"
      },
      "execution_count": null,
      "outputs": []
    },
    {
      "cell_type": "code",
      "source": [
        "#=========================================================================================================================#\n",
        "#========================================================>Python Booleans<================================================#\n",
        "#=========================================================================================================================#\n",
        "print(9 < 10)      #========>>true\n",
        "print(9 == 10)     #========>>false\n",
        "print(9 > 10)      #========>>false\n",
        "#======================================================\n",
        "A = 50\n",
        "Z = 30\n",
        "if A < Z :\n",
        "    print(\"Z is greater than A\")    #==========>\"A is greater than Z\"\n",
        "else:\n",
        "    print(\"A is greater than Z\")\n",
        "#=======================================================\n",
        "x = \"Hello\"\n",
        "y = 15\n",
        "print(bool(y))     #===========>true\n",
        "print(bool(x))     #===========>true\n",
        "#-=================================>>Etiketlerden birini koyarsanız,yanlış çıkacaktır.<<=======================================#\n",
        "print(bool(False))   #========>>false\n",
        "print(bool(None))    #========>>false\n",
        "print(bool(0))       #========>>false\n",
        "print(bool(\"\"))      #========>>false\n",
        "print(bool(()))      #========>>false\n",
        "print(bool([]))      #========>>false\n",
        "print(bool({}))      #========>>false\n",
        "#======================================================\n",
        "def myFunction() :\n",
        "  return True           #========>True\n",
        "print(myFunction())\n",
        "#=====================================================\n",
        "def myFunction() :\n",
        "  return True\n",
        "if myFunction():\n",
        "  print(\"YES!\") #======>YES\n",
        "else:\n",
        "  print(\"NO!\")\n",
        "#======================================================\n",
        "x = 200 \n",
        "print(isinstance(x,(int))     #===========>>true"
      ],
      "metadata": {
        "id": "ybnVJI1OG5-V"
      },
      "execution_count": null,
      "outputs": []
    },
    {
      "cell_type": "code",
      "source": [
        "#===========================================#\n",
        "#===========>>Python Operators<<============#\n",
        "#===========================================#\n",
        "x = 5\n",
        "y = 3\n",
        "print(x + y)\n",
        "print(x - y)\n",
        "print(x * y)\n",
        "print(x / y)\n",
        "print(x % y)\n",
        "print(x ** y)        #same as 2*2*2*2*2\n",
        "print(x // y)\n",
        "#======================================\n",
        "x = 5\n",
        "x += 3\n",
        "print(x)\n",
        "#=====================================\n",
        "x = 5\n",
        "x -= 3\n",
        "print(x)\n",
        "#=====================================\n",
        "x = 5\n",
        "print(x > 3 and x < 10)\n",
        "print(x > 3 or x < 4)\n",
        "print(x > 3 or x < 4)\n",
        "#=====================================\n",
        "x = 5\n",
        "print(x > 3 and x < 10)\n",
        "print(x > 3 or x < 4)\n",
        "print(not(x > 3 and x < 10))\n",
        "#=====================================\n",
        "x = [\"apple\", \"banana\"]\n",
        "y = [\"apple\", \"banana\"]\n",
        "z = x\n",
        "print(x is z)\n",
        "print(x is y)\n",
        "print(x == y)\n",
        "#=====================================\n",
        "print(x is not z)\n",
        "print(x is not z)\n",
        "print(x != y)\n",
        "#====================================\n",
        "x = [\"apple\", \"banana\"]\n",
        "print(\"banana\" in x)\n",
        "#====================================\n",
        "x = [\"apple\", \"banana\"]\n",
        "print(\"pineapple\" not in x)\n",
        "#==================================="
      ],
      "metadata": {
        "id": "9wiB3yLXHMZv"
      },
      "execution_count": null,
      "outputs": []
    },
    {
      "cell_type": "code",
      "source": [
        "#----------------------------------------------------------------------------------------------------------------#\n",
        "#--------------------------------------------->#paython strings<-------------------------------------------------#\n",
        "#----------------------------------------------------------------------------------------------------------------#\n",
        "for x in\"bomba\":\n",
        "    print(x)\n",
        "#--------------------------------\n",
        "txt = \"The best things in life are free!\"\n",
        "print(\"free\" in txt)\n",
        "#---------------------------\n",
        "a = \"korona\"\n",
        "print(a[1:5]) \n",
        "#--------------------------------\n",
        "txt = \"Cheetah in a wild animal\"\n",
        "if \"cheetah\" in txt:\n",
        " print(\"yes,them 'wild animals'\")\n",
        "#--------------------------------------\n",
        "txt = \"The best things in life are free!\"\n",
        "print(\"expensive\" not in txt)\n",
        "#--------------------------------------------\n",
        "a = \"Hello, World!\"\n",
        "print(a.upper())\n",
        "#--------------------------------------------\n",
        "a = \"Hello, World!\"\n",
        "print(a.lower())\n",
        "#--------------------------------------------\n",
        "a =\"korona, vayrus\"\n",
        "print(a.replace(\"k\", \"D\"))\n",
        "#--------------------------------------------\n",
        "a = \"my, name\"\n",
        "print(a.split(\",\"))\n",
        "#--------------------------------------------\n",
        "age = 13\n",
        "txt = \"My name is John, and I am {}\"\n",
        "print(txt.format(age))\n",
        "#--------------------------------------------\n",
        "quantity = 3\n",
        "itemno = 567\n",
        "price = 49.95\n",
        "myorder = \"I want {} pieces of item {} for {} dollars.\"\n",
        "print(myorder.format(quantity, itemno, price))\n",
        "#-------------------------------------------"
      ],
      "metadata": {
        "id": "TI2rKwRrH0y6"
      },
      "execution_count": null,
      "outputs": []
    },
    {
      "cell_type": "code",
      "source": [
        " git clone https://github.com/AbudDaas/ABD.git"
      ],
      "metadata": {
        "id": "9RddLSzjk4PM"
      },
      "execution_count": null,
      "outputs": []
    }
  ]
}